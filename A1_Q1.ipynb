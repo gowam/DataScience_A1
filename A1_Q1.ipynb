{
 "cells": [
  {
   "cell_type": "markdown",
   "id": "44bd8744",
   "metadata": {},
   "source": [
    "# Importing libraries"
   ]
  },
  {
   "cell_type": "code",
   "execution_count": 6,
   "id": "51ddc89e",
   "metadata": {},
   "outputs": [],
   "source": [
    "import numpy as np\n",
    "from scipy import stats\n",
    "import matplotlib.pyplot as plt"
   ]
  },
  {
   "cell_type": "markdown",
   "id": "b23091c1",
   "metadata": {},
   "source": [
    "# 1000 DRAWS"
   ]
  },
  {
   "cell_type": "code",
   "execution_count": 7,
   "id": "989bdead",
   "metadata": {},
   "outputs": [],
   "source": [
    "random = stats.norm.rvs(loc=1.5,scale=0.5, size=1000)"
   ]
  },
  {
   "cell_type": "code",
   "execution_count": 8,
   "id": "68785b43",
   "metadata": {},
   "outputs": [],
   "source": [
    "mu, sigma = stats.norm.fit(random)"
   ]
  },
  {
   "cell_type": "markdown",
   "id": "007b873b",
   "metadata": {},
   "source": [
    "\n",
    "# plotting PDF"
   ]
  },
  {
   "cell_type": "code",
   "execution_count": 9,
   "id": "759ff0e3",
   "metadata": {},
   "outputs": [
    {
     "data": {
      "image/png": "[encoded data removed]",
      "text/plain": [
       "<Figure size 1000x450 with 1 Axes>"
      ]
     },
     "metadata": {},
     "output_type": "display_data"
    }
   ],
   "source": [
    "x = np.linspace(-3,6,1000)\n",
    "fig, ax = plt.subplots(figsize=(10,4.5))\n",
    "ax.hist(random, bins=200, density=True)\n",
    "ax.plot(x, stats.norm.pdf(x, loc = mu, scale = sigma))\n",
    "plt.show()"
   ]
  },
  {
   "cell_type": "markdown",
   "id": "c3fa0c0c",
   "metadata": {},
   "source": [
    "# calculation part"
   ]
  },
  {
   "cell_type": "code",
   "execution_count": 10,
   "id": "39e50c90",
   "metadata": {},
   "outputs": [
    {
     "name": "stdout",
     "output_type": "stream",
     "text": [
      "mean is : 1.5158070981247977\n",
      "median is : 1.5169209924919485\n",
      "varinace is : 0.24268646789453963\n",
      "standard deviation is : 0.4926321831696947\n",
      "skewness is : -0.04457150729966048\n",
      "kurtosis is : 0.1667299185105442\n"
     ]
    }
   ],
   "source": [
    "# mean\n",
    "print(f'mean is : {stats.norm.mean(mu, sigma)}')\n",
    "\n",
    "#median\n",
    "print(f'median is : {np.median(random)}')\n",
    "\n",
    "#variance\n",
    "print(f'varinace is : {stats.norm.var(mu, sigma)}')\n",
    "\n",
    "#standard deviation\n",
    "print(f'standard deviation is : {stats.norm.std(mu, sigma)}')\n",
    "\n",
    "#skewness\n",
    "print(f'skewness is : {stats.skew(random)}')\n",
    "\n",
    "#kurtosis\n",
    "print(f'kurtosis is : {stats.kurtosis(random)}')"
   ]
  },
  {
   "cell_type": "code",
   "execution_count": 11,
   "id": "2bd4153f",
   "metadata": {},
   "outputs": [
    {
     "data": {
      "text/plain": [
       "0.32932738955170915"
      ]
     },
     "execution_count": 11,
     "metadata": {},
     "output_type": "execute_result"
    }
   ],
   "source": [
    "#median absolute deviation\n",
    "\n",
    "MAD=stats.median_abs_deviation(random)\n",
    "MAD"
   ]
  },
  {
   "cell_type": "code",
   "execution_count": 12,
   "id": "4c5eb345",
   "metadata": {},
   "outputs": [
    {
     "data": {
      "text/plain": [
       "0.48806319131563297"
      ]
     },
     "execution_count": 12,
     "metadata": {},
     "output_type": "execute_result"
    }
   ],
   "source": [
    "#standard deviation of gaussian distribution = 1.482*MAD\n",
    "\n",
    "sigma = 1.482*MAD\n",
    "sigma"
   ]
  },
  {
   "cell_type": "code",
   "execution_count": null,
   "id": "70a1b8ba",
   "metadata": {},
   "outputs": [],
   "source": []
  }
 ],
 "metadata": {
  "kernelspec": {
   "display_name": "Python 3 (ipykernel)",
   "language": "python",
   "name": "python3"
  },
  "language_info": {
   "codemirror_mode": {
    "name": "ipython",
    "version": 3
   },
   "file_extension": ".py",
   "mimetype": "text/x-python",
   "name": "python",
   "nbconvert_exporter": "python",
   "pygments_lexer": "ipython3",
   "version": "3.9.13"
  }
 },
 "nbformat": 4,
 "nbformat_minor": 5
}
